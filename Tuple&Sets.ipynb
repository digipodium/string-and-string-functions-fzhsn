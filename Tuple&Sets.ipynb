{
  "nbformat": 4,
  "nbformat_minor": 0,
  "metadata": {
    "colab": {
      "name": "Tuple&Sets.ipynb",
      "provenance": [],
      "include_colab_link": true
    },
    "kernelspec": {
      "name": "python3",
      "display_name": "Python 3"
    },
    "language_info": {
      "name": "python"
    }
  },
  "cells": [
    {
      "cell_type": "markdown",
      "metadata": {
        "id": "view-in-github",
        "colab_type": "text"
      },
      "source": [
        "<a href=\"https://colab.research.google.com/github/digipodium/string-and-string-functions-fzhsn/blob/main/Tuple%26Sets.ipynb\" target=\"_parent\"><img src=\"https://colab.research.google.com/assets/colab-badge.svg\" alt=\"Open In Colab\"/></a>"
      ]
    },
    {
      "cell_type": "code",
      "metadata": {
        "id": "Hb-FMOiUnnL4"
      },
      "source": [
        "values=(1,2,3,4,5,6,7)"
      ],
      "execution_count": null,
      "outputs": []
    },
    {
      "cell_type": "code",
      "metadata": {
        "colab": {
          "base_uri": "https://localhost:8080/"
        },
        "id": "Z_VP2oRroYjR",
        "outputId": "db9f6122-9878-47fa-da67-8f19c270b938"
      },
      "source": [
        "type(values)"
      ],
      "execution_count": null,
      "outputs": [
        {
          "output_type": "execute_result",
          "data": {
            "text/plain": [
              "tuple"
            ]
          },
          "metadata": {},
          "execution_count": 3
        }
      ]
    },
    {
      "cell_type": "code",
      "metadata": {
        "colab": {
          "base_uri": "https://localhost:8080/"
        },
        "id": "yyyoU-_8pwhw",
        "outputId": "50eba1ec-5a39-44cb-8d81-a351b59837e8"
      },
      "source": [
        "values[2]"
      ],
      "execution_count": null,
      "outputs": [
        {
          "output_type": "execute_result",
          "data": {
            "text/plain": [
              "3"
            ]
          },
          "metadata": {},
          "execution_count": 4
        }
      ]
    },
    {
      "cell_type": "code",
      "metadata": {
        "colab": {
          "base_uri": "https://localhost:8080/"
        },
        "id": "DMrS9ffgqIv6",
        "outputId": "dcccf0f0-af7f-40e1-d504-438233e6e991"
      },
      "source": [
        "values[:4]"
      ],
      "execution_count": null,
      "outputs": [
        {
          "output_type": "execute_result",
          "data": {
            "text/plain": [
              "(1, 2, 3, 4)"
            ]
          },
          "metadata": {},
          "execution_count": 5
        }
      ]
    },
    {
      "cell_type": "code",
      "metadata": {
        "colab": {
          "base_uri": "https://localhost:8080/"
        },
        "id": "4dMLtBWnqOae",
        "outputId": "ccc7ded8-8452-4f35-dd3d-d0ab0d4868b0"
      },
      "source": [
        "values[-3:]"
      ],
      "execution_count": null,
      "outputs": [
        {
          "output_type": "execute_result",
          "data": {
            "text/plain": [
              "(4, 5, 6)"
            ]
          },
          "metadata": {},
          "execution_count": 6
        }
      ]
    },
    {
      "cell_type": "code",
      "metadata": {
        "colab": {
          "base_uri": "https://localhost:8080/"
        },
        "id": "WZQDHY2cqgr8",
        "outputId": "e6ad4fdc-299c-4f4d-9f07-6fac391cbebe"
      },
      "source": [
        "values[::-2]"
      ],
      "execution_count": null,
      "outputs": [
        {
          "output_type": "execute_result",
          "data": {
            "text/plain": [
              "(6, 4, 2)"
            ]
          },
          "metadata": {},
          "execution_count": 10
        }
      ]
    },
    {
      "cell_type": "code",
      "metadata": {
        "id": "pZoV5nDoqyHk"
      },
      "source": [
        "numbers=(1,2,3,4,5,6,4,5,3)"
      ],
      "execution_count": null,
      "outputs": []
    },
    {
      "cell_type": "markdown",
      "metadata": {
        "id": "arlCP9EirPei"
      },
      "source": [
        "## Tuple Functions\n",
        "* count\n",
        "* index"
      ]
    },
    {
      "cell_type": "code",
      "metadata": {
        "colab": {
          "base_uri": "https://localhost:8080/"
        },
        "id": "rYop3WfBrNdI",
        "outputId": "6ed49a00-3ec4-43f5-f232-e5baa361c993"
      },
      "source": [
        "numbers.count(3)"
      ],
      "execution_count": null,
      "outputs": [
        {
          "output_type": "execute_result",
          "data": {
            "text/plain": [
              "2"
            ]
          },
          "metadata": {},
          "execution_count": 12
        }
      ]
    },
    {
      "cell_type": "code",
      "metadata": {
        "colab": {
          "base_uri": "https://localhost:8080/"
        },
        "id": "v9A7WNS6reJ4",
        "outputId": "024acabf-608a-42a9-da72-4113d4bec128"
      },
      "source": [
        "numbers.count(4)"
      ],
      "execution_count": null,
      "outputs": [
        {
          "output_type": "execute_result",
          "data": {
            "text/plain": [
              "2"
            ]
          },
          "metadata": {},
          "execution_count": 13
        }
      ]
    },
    {
      "cell_type": "code",
      "metadata": {
        "colab": {
          "base_uri": "https://localhost:8080/"
        },
        "id": "eenAPWY3rihN",
        "outputId": "0716b107-8982-4105-c776-9ecabe0c2800"
      },
      "source": [
        "numbers.count(12)"
      ],
      "execution_count": null,
      "outputs": [
        {
          "output_type": "execute_result",
          "data": {
            "text/plain": [
              "0"
            ]
          },
          "metadata": {},
          "execution_count": 14
        }
      ]
    },
    {
      "cell_type": "code",
      "metadata": {
        "colab": {
          "base_uri": "https://localhost:8080/"
        },
        "id": "z0GE9ORkr6Dc",
        "outputId": "a9fa3b74-1059-45c2-94bd-c016ed661a2e"
      },
      "source": [
        "numbers.count(\"oye\")"
      ],
      "execution_count": null,
      "outputs": [
        {
          "output_type": "execute_result",
          "data": {
            "text/plain": [
              "0"
            ]
          },
          "metadata": {},
          "execution_count": 15
        }
      ]
    },
    {
      "cell_type": "code",
      "metadata": {
        "colab": {
          "base_uri": "https://localhost:8080/"
        },
        "id": "TiZeF5bSsQiB",
        "outputId": "db26a42a-f021-4b01-bb0a-fbdd2c85d481"
      },
      "source": [
        "colors=(\"red\",\"blue\",\"green\",\"black\")\n",
        "colors"
      ],
      "execution_count": null,
      "outputs": [
        {
          "output_type": "execute_result",
          "data": {
            "text/plain": [
              "('red', 'blue', 'green', 'black')"
            ]
          },
          "metadata": {},
          "execution_count": 24
        }
      ]
    },
    {
      "cell_type": "code",
      "metadata": {
        "colab": {
          "base_uri": "https://localhost:8080/"
        },
        "id": "UDwvqSWevVuQ",
        "outputId": "c2d06a5f-5676-401b-b822-2dbc00e06045"
      },
      "source": [
        "colors.index(\"green\")"
      ],
      "execution_count": null,
      "outputs": [
        {
          "output_type": "execute_result",
          "data": {
            "text/plain": [
              "2"
            ]
          },
          "metadata": {},
          "execution_count": 25
        }
      ]
    },
    {
      "cell_type": "code",
      "metadata": {
        "colab": {
          "base_uri": "https://localhost:8080/"
        },
        "id": "UyvIfoRjviY6",
        "outputId": "90bbe746-4501-4b6d-e40e-6be995e7c35e"
      },
      "source": [
        "colors.index(\"black\")"
      ],
      "execution_count": null,
      "outputs": [
        {
          "output_type": "execute_result",
          "data": {
            "text/plain": [
              "3"
            ]
          },
          "metadata": {},
          "execution_count": 26
        }
      ]
    },
    {
      "cell_type": "markdown",
      "metadata": {
        "id": "E5yRIVQ3slBu"
      },
      "source": [
        "## conversion of a touple to list and vice versa"
      ]
    },
    {
      "cell_type": "code",
      "metadata": {
        "colab": {
          "base_uri": "https://localhost:8080/"
        },
        "id": "2e4hKBpnslrN",
        "outputId": "d534d94c-d31f-4eba-f160-7a63b89558b7"
      },
      "source": [
        "list(values)"
      ],
      "execution_count": null,
      "outputs": [
        {
          "output_type": "execute_result",
          "data": {
            "text/plain": [
              "[1, 2, 3, 4, 5, 6]"
            ]
          },
          "metadata": {},
          "execution_count": 16
        }
      ]
    },
    {
      "cell_type": "code",
      "metadata": {
        "colab": {
          "base_uri": "https://localhost:8080/"
        },
        "id": "PmvrWRtJst1l",
        "outputId": "50ca0e48-db33-4e72-bd9f-6654b36fddd2"
      },
      "source": [
        "type(values)"
      ],
      "execution_count": null,
      "outputs": [
        {
          "output_type": "execute_result",
          "data": {
            "text/plain": [
              "tuple"
            ]
          },
          "metadata": {},
          "execution_count": 18
        }
      ]
    },
    {
      "cell_type": "code",
      "metadata": {
        "id": "ze2rN3jJtP0z"
      },
      "source": [
        "values=list(values)"
      ],
      "execution_count": null,
      "outputs": []
    },
    {
      "cell_type": "code",
      "metadata": {
        "colab": {
          "base_uri": "https://localhost:8080/"
        },
        "id": "4VS4_ohUtU9B",
        "outputId": "8d4ba10b-06ad-4f96-fd4f-320bbd64392e"
      },
      "source": [
        "values"
      ],
      "execution_count": null,
      "outputs": [
        {
          "output_type": "execute_result",
          "data": {
            "text/plain": [
              "[1, 2, 3, 4, 5, 6, 7]"
            ]
          },
          "metadata": {},
          "execution_count": 20
        }
      ]
    },
    {
      "cell_type": "code",
      "metadata": {
        "colab": {
          "base_uri": "https://localhost:8080/"
        },
        "id": "Q8hbUTL0tWm9",
        "outputId": "996d957f-f3ac-4c76-971b-c119cf576dbd"
      },
      "source": [
        "type(values)"
      ],
      "execution_count": null,
      "outputs": [
        {
          "output_type": "execute_result",
          "data": {
            "text/plain": [
              "list"
            ]
          },
          "metadata": {},
          "execution_count": 21
        }
      ]
    },
    {
      "cell_type": "code",
      "metadata": {
        "colab": {
          "base_uri": "https://localhost:8080/"
        },
        "id": "CdQn3GAZtY0w",
        "outputId": "631ced8e-381d-4a2e-a62c-664737aedbbb"
      },
      "source": [
        "nums=[6,88,66,95,88,25,369,741,965,745,822]\n",
        "numst=tuple(nums)\n",
        "numst"
      ],
      "execution_count": null,
      "outputs": [
        {
          "output_type": "execute_result",
          "data": {
            "text/plain": [
              "(6, 88, 66, 95, 88, 25, 369, 741, 965, 745, 822)"
            ]
          },
          "metadata": {},
          "execution_count": 22
        }
      ]
    },
    {
      "cell_type": "code",
      "metadata": {
        "colab": {
          "base_uri": "https://localhost:8080/"
        },
        "id": "9K3szrGButTG",
        "outputId": "66fa3400-c32d-4917-dc8d-80ecc29568b2"
      },
      "source": [
        "a={2,31,58,88,96,32,58,57}\n",
        "a"
      ],
      "execution_count": null,
      "outputs": [
        {
          "output_type": "execute_result",
          "data": {
            "text/plain": [
              "{2, 31, 32, 57, 58, 88, 96}"
            ]
          },
          "metadata": {},
          "execution_count": 28
        }
      ]
    },
    {
      "cell_type": "code",
      "metadata": {
        "colab": {
          "base_uri": "https://localhost:8080/"
        },
        "id": "DxNnaIpswdfh",
        "outputId": "2a46741d-ce78-4fe7-a918-0dfb35654c36"
      },
      "source": [
        "for item in a:\n",
        "  print(item, end=\" \")"
      ],
      "execution_count": null,
      "outputs": [
        {
          "output_type": "stream",
          "name": "stdout",
          "text": [
            "96 32 2 88 57 58 31 "
          ]
        }
      ]
    },
    {
      "cell_type": "code",
      "metadata": {
        "id": "XosiiwJ-x-q7"
      },
      "source": [
        "a.add(100)"
      ],
      "execution_count": null,
      "outputs": []
    },
    {
      "cell_type": "code",
      "metadata": {
        "colab": {
          "base_uri": "https://localhost:8080/"
        },
        "id": "i1_fGc_UyRCu",
        "outputId": "77f5d6f6-e819-469b-8934-4810e39d110c"
      },
      "source": [
        "a"
      ],
      "execution_count": null,
      "outputs": [
        {
          "output_type": "execute_result",
          "data": {
            "text/plain": [
              "{2, 31, 32, 57, 58, 88, 96, 100}"
            ]
          },
          "metadata": {},
          "execution_count": 33
        }
      ]
    },
    {
      "cell_type": "code",
      "metadata": {
        "id": "zKjjPag3ySq6"
      },
      "source": [
        "a.add(32) #duplicate items are skipped"
      ],
      "execution_count": null,
      "outputs": []
    },
    {
      "cell_type": "code",
      "metadata": {
        "colab": {
          "base_uri": "https://localhost:8080/"
        },
        "id": "UMgK4w7VzKf-",
        "outputId": "47b581e9-3580-45ff-9152-d59a4546fcd9"
      },
      "source": [
        "a"
      ],
      "execution_count": null,
      "outputs": [
        {
          "output_type": "execute_result",
          "data": {
            "text/plain": [
              "{2, 31, 32, 57, 58, 88, 96, 100}"
            ]
          },
          "metadata": {},
          "execution_count": 35
        }
      ]
    },
    {
      "cell_type": "code",
      "metadata": {
        "id": "i2Xt9kUbzLzq"
      },
      "source": [
        "a.remove(88)"
      ],
      "execution_count": null,
      "outputs": []
    },
    {
      "cell_type": "code",
      "metadata": {
        "colab": {
          "base_uri": "https://localhost:8080/"
        },
        "id": "Nh_UGeRazgX0",
        "outputId": "3e3009fa-a02b-46a6-f2e0-2db78c0b8f24"
      },
      "source": [
        "a"
      ],
      "execution_count": null,
      "outputs": [
        {
          "output_type": "execute_result",
          "data": {
            "text/plain": [
              "{2, 31, 32, 57, 58, 96, 100}"
            ]
          },
          "metadata": {},
          "execution_count": 38
        }
      ]
    },
    {
      "cell_type": "code",
      "metadata": {
        "colab": {
          "base_uri": "https://localhost:8080/"
        },
        "id": "KqYRFBtazshz",
        "outputId": "96e545f7-0995-4c38-fc18-7475544e581a"
      },
      "source": [
        "a.pop()"
      ],
      "execution_count": null,
      "outputs": [
        {
          "output_type": "execute_result",
          "data": {
            "text/plain": [
              "96"
            ]
          },
          "metadata": {},
          "execution_count": 39
        }
      ]
    },
    {
      "cell_type": "code",
      "metadata": {
        "colab": {
          "base_uri": "https://localhost:8080/"
        },
        "id": "mm8KVdnnzhXr",
        "outputId": "4a5da52d-319c-4499-fac5-e359363f4581"
      },
      "source": [
        "a.pop()"
      ],
      "execution_count": null,
      "outputs": [
        {
          "output_type": "execute_result",
          "data": {
            "text/plain": [
              "32"
            ]
          },
          "metadata": {},
          "execution_count": 41
        }
      ]
    },
    {
      "cell_type": "code",
      "metadata": {
        "colab": {
          "base_uri": "https://localhost:8080/",
          "height": 162
        },
        "id": "uUA22Qoezzma",
        "outputId": "1f6fc200-6d4f-4cd5-b3ae-3a16f6e26796"
      },
      "source": [
        "a.remove(99)"
      ],
      "execution_count": null,
      "outputs": [
        {
          "output_type": "error",
          "ename": "KeyError",
          "evalue": "ignored",
          "traceback": [
            "\u001b[0;31m---------------------------------------------------------------------------\u001b[0m",
            "\u001b[0;31mKeyError\u001b[0m                                  Traceback (most recent call last)",
            "\u001b[0;32m<ipython-input-42-78286268d0d1>\u001b[0m in \u001b[0;36m<module>\u001b[0;34m()\u001b[0m\n\u001b[0;32m----> 1\u001b[0;31m \u001b[0ma\u001b[0m\u001b[0;34m.\u001b[0m\u001b[0mremove\u001b[0m\u001b[0;34m(\u001b[0m\u001b[0;36m99\u001b[0m\u001b[0;34m)\u001b[0m\u001b[0;34m\u001b[0m\u001b[0;34m\u001b[0m\u001b[0m\n\u001b[0m",
            "\u001b[0;31mKeyError\u001b[0m: 99"
          ]
        }
      ]
    },
    {
      "cell_type": "code",
      "metadata": {
        "id": "IBTUMy4u0Det"
      },
      "source": [
        "team1={\"priya\",\"harsh\",\"harshit\",\"faisal\",\"neha\"}\n",
        "team2={\"nisha\",\"harsh\",\"vaishnavi\",\"anand\",\"prajjal\"}"
      ],
      "execution_count": null,
      "outputs": []
    },
    {
      "cell_type": "code",
      "metadata": {
        "id": "YSB_ALwF1foG"
      },
      "source": [
        "team12=team1.union(team2)"
      ],
      "execution_count": null,
      "outputs": []
    },
    {
      "cell_type": "code",
      "metadata": {
        "id": "e_zERE5A1ujZ"
      },
      "source": [
        "team45= team1 | team2"
      ],
      "execution_count": null,
      "outputs": []
    },
    {
      "cell_type": "code",
      "metadata": {
        "colab": {
          "base_uri": "https://localhost:8080/"
        },
        "id": "X-SXrPRi2CDX",
        "outputId": "42026fae-825e-4a03-f861-0d37466fd29e"
      },
      "source": [
        "team12\n"
      ],
      "execution_count": null,
      "outputs": [
        {
          "output_type": "execute_result",
          "data": {
            "text/plain": [
              "{'anand',\n",
              " 'faisal',\n",
              " 'harsh',\n",
              " 'harshit',\n",
              " 'neha',\n",
              " 'nisha',\n",
              " 'prajjal',\n",
              " 'priya',\n",
              " 'vaishnavi'}"
            ]
          },
          "metadata": {},
          "execution_count": 50
        }
      ]
    },
    {
      "cell_type": "code",
      "metadata": {
        "colab": {
          "base_uri": "https://localhost:8080/"
        },
        "id": "fNbs8SYh2HHt",
        "outputId": "7b3a63ef-1a06-4853-9774-c8975fa05bbd"
      },
      "source": [
        "team45"
      ],
      "execution_count": null,
      "outputs": [
        {
          "output_type": "execute_result",
          "data": {
            "text/plain": [
              "{'anand',\n",
              " 'faisal',\n",
              " 'harsh',\n",
              " 'harshit',\n",
              " 'neha',\n",
              " 'nisha',\n",
              " 'prajjal',\n",
              " 'priya',\n",
              " 'vaishnavi'}"
            ]
          },
          "metadata": {},
          "execution_count": 49
        }
      ]
    },
    {
      "cell_type": "code",
      "metadata": {
        "colab": {
          "base_uri": "https://localhost:8080/"
        },
        "id": "7aNH6MgV2JO3",
        "outputId": "85e96394-5421-409a-e7a7-05a2baa25171"
      },
      "source": [
        "team1.intersection(team2)"
      ],
      "execution_count": null,
      "outputs": [
        {
          "output_type": "execute_result",
          "data": {
            "text/plain": [
              "{'harsh'}"
            ]
          },
          "metadata": {},
          "execution_count": 51
        }
      ]
    },
    {
      "cell_type": "code",
      "metadata": {
        "colab": {
          "base_uri": "https://localhost:8080/"
        },
        "id": "venN3BTe3FWX",
        "outputId": "a11fe4c9-51f6-4444-8fef-2a61f3eeb4af"
      },
      "source": [
        "team1 & team2"
      ],
      "execution_count": null,
      "outputs": [
        {
          "output_type": "execute_result",
          "data": {
            "text/plain": [
              "{'harsh'}"
            ]
          },
          "metadata": {},
          "execution_count": 52
        }
      ]
    },
    {
      "cell_type": "code",
      "metadata": {
        "colab": {
          "base_uri": "https://localhost:8080/"
        },
        "id": "TxF6sVG43NKa",
        "outputId": "abb58eb4-328b-4cf9-d200-fb3d02fbecb9"
      },
      "source": [
        "team1 - team2"
      ],
      "execution_count": null,
      "outputs": [
        {
          "output_type": "execute_result",
          "data": {
            "text/plain": [
              "{'faisal', 'harshit', 'neha', 'priya'}"
            ]
          },
          "metadata": {},
          "execution_count": 53
        }
      ]
    },
    {
      "cell_type": "code",
      "metadata": {
        "colab": {
          "base_uri": "https://localhost:8080/"
        },
        "id": "581RXS063x7L",
        "outputId": "dd9d578e-2165-4675-855e-1b57aa1fd9b3"
      },
      "source": [
        "team2 -team1"
      ],
      "execution_count": null,
      "outputs": [
        {
          "output_type": "execute_result",
          "data": {
            "text/plain": [
              "{'anand', 'nisha', 'prajjal', 'vaishnavi'}"
            ]
          },
          "metadata": {},
          "execution_count": 54
        }
      ]
    },
    {
      "cell_type": "code",
      "metadata": {
        "colab": {
          "base_uri": "https://localhost:8080/"
        },
        "id": "LMnK3MTl304A",
        "outputId": "ac6031a1-0a5e-4aae-8ef1-8831278cde90"
      },
      "source": [
        "team2.difference(team1)"
      ],
      "execution_count": null,
      "outputs": [
        {
          "output_type": "execute_result",
          "data": {
            "text/plain": [
              "{'anand', 'nisha', 'prajjal', 'vaishnavi'}"
            ]
          },
          "metadata": {},
          "execution_count": 56
        }
      ]
    },
    {
      "cell_type": "code",
      "metadata": {
        "colab": {
          "base_uri": "https://localhost:8080/"
        },
        "id": "q71FNX_z4Buc",
        "outputId": "5051ddb7-3460-415d-a542-6b0ee37aead1"
      },
      "source": [
        "team1.symmetric_difference(team2)"
      ],
      "execution_count": null,
      "outputs": [
        {
          "output_type": "execute_result",
          "data": {
            "text/plain": [
              "{'anand',\n",
              " 'faisal',\n",
              " 'harshit',\n",
              " 'neha',\n",
              " 'nisha',\n",
              " 'prajjal',\n",
              " 'priya',\n",
              " 'vaishnavi'}"
            ]
          },
          "metadata": {},
          "execution_count": 57
        }
      ]
    },
    {
      "cell_type": "code",
      "metadata": {
        "colab": {
          "base_uri": "https://localhost:8080/"
        },
        "id": "GUowtESZ4owe",
        "outputId": "26344482-41da-4a06-8dce-a171291378dc"
      },
      "source": [
        "team1 ^ team2"
      ],
      "execution_count": null,
      "outputs": [
        {
          "output_type": "execute_result",
          "data": {
            "text/plain": [
              "{'anand',\n",
              " 'faisal',\n",
              " 'harshit',\n",
              " 'neha',\n",
              " 'nisha',\n",
              " 'prajjal',\n",
              " 'priya',\n",
              " 'vaishnavi'}"
            ]
          },
          "metadata": {},
          "execution_count": 58
        }
      ]
    },
    {
      "cell_type": "code",
      "metadata": {
        "id": "lPk0Q_Jh4zWG"
      },
      "source": [
        "alphabets ={\"a\",\"b\",\"c\",\"d\"}\n",
        "vovels= {\"a\",\"e\",\"i\",\"o\",\"u\"}"
      ],
      "execution_count": null,
      "outputs": []
    },
    {
      "cell_type": "code",
      "metadata": {
        "id": "RbOeBOR65WZZ"
      },
      "source": [
        "c =alphabets.symmetric_difference(vovels)"
      ],
      "execution_count": null,
      "outputs": []
    },
    {
      "cell_type": "code",
      "metadata": {
        "colab": {
          "base_uri": "https://localhost:8080/"
        },
        "id": "YOydhu3O5fLR",
        "outputId": "0ff91603-3455-4080-b5f6-fbc2212b245b"
      },
      "source": [
        "c"
      ],
      "execution_count": null,
      "outputs": [
        {
          "output_type": "execute_result",
          "data": {
            "text/plain": [
              "{'b', 'c', 'd', 'e', 'i', 'o', 'u'}"
            ]
          },
          "metadata": {},
          "execution_count": 64
        }
      ]
    },
    {
      "cell_type": "code",
      "metadata": {
        "id": "SZe44f_g1OMe"
      },
      "source": [
        "x={\"a\",\"b\",\"c\",\"d\",\"e\"}\n",
        "y={\"d\",\"e\",\"r\"}\n",
        "z={\"w\",\"t\",\"u\"}"
      ],
      "execution_count": null,
      "outputs": []
    },
    {
      "cell_type": "code",
      "metadata": {
        "colab": {
          "base_uri": "https://localhost:8080/"
        },
        "id": "_-kYDnzz3ToT",
        "outputId": "d7e38f47-806f-49c9-be59-b102fc6c75ab"
      },
      "source": [
        "x.issubset(y)"
      ],
      "execution_count": null,
      "outputs": [
        {
          "output_type": "execute_result",
          "data": {
            "text/plain": [
              "False"
            ]
          },
          "metadata": {},
          "execution_count": 3
        }
      ]
    },
    {
      "cell_type": "code",
      "metadata": {
        "colab": {
          "base_uri": "https://localhost:8080/"
        },
        "id": "UzEZKiUY3TVt",
        "outputId": "16ec7408-371e-4470-a9a0-4950957e8bd7"
      },
      "source": [
        "y.issubset(x)"
      ],
      "execution_count": null,
      "outputs": [
        {
          "output_type": "execute_result",
          "data": {
            "text/plain": [
              "True"
            ]
          },
          "metadata": {},
          "execution_count": 4
        }
      ]
    },
    {
      "cell_type": "code",
      "metadata": {
        "colab": {
          "base_uri": "https://localhost:8080/"
        },
        "id": "YQukbdH63tDt",
        "outputId": "9838b56c-5587-4ce2-fabc-fcca89d3c072"
      },
      "source": [
        "x.issuperset(y)"
      ],
      "execution_count": null,
      "outputs": [
        {
          "output_type": "execute_result",
          "data": {
            "text/plain": [
              "True"
            ]
          },
          "metadata": {},
          "execution_count": 5
        }
      ]
    },
    {
      "cell_type": "code",
      "metadata": {
        "colab": {
          "base_uri": "https://localhost:8080/"
        },
        "id": "kIkqZUfn3yip",
        "outputId": "3d7d9cb5-19c1-400b-8f10-2063a74b2c5a"
      },
      "source": [
        "y.issuperset(x)"
      ],
      "execution_count": null,
      "outputs": [
        {
          "output_type": "execute_result",
          "data": {
            "text/plain": [
              "False"
            ]
          },
          "metadata": {},
          "execution_count": 6
        }
      ]
    },
    {
      "cell_type": "code",
      "metadata": {
        "id": "ILYz23_N33w9"
      },
      "source": [
        "isdisjoint()"
      ],
      "execution_count": null,
      "outputs": []
    },
    {
      "cell_type": "code",
      "metadata": {
        "colab": {
          "base_uri": "https://localhost:8080/"
        },
        "id": "QNzQzLDg4EOj",
        "outputId": "02138068-0c08-45b5-fa0a-69d457834531"
      },
      "source": [
        "x.isdisjoint(y)"
      ],
      "execution_count": null,
      "outputs": [
        {
          "output_type": "execute_result",
          "data": {
            "text/plain": [
              "False"
            ]
          },
          "metadata": {},
          "execution_count": 10
        }
      ]
    },
    {
      "cell_type": "code",
      "metadata": {
        "colab": {
          "base_uri": "https://localhost:8080/"
        },
        "id": "ef5kM1rB4NSj",
        "outputId": "45705317-b651-4bcc-d77f-b0f4e7463c1d"
      },
      "source": [
        "x.isdisjoint(z)"
      ],
      "execution_count": null,
      "outputs": [
        {
          "output_type": "execute_result",
          "data": {
            "text/plain": [
              "True"
            ]
          },
          "metadata": {},
          "execution_count": 11
        }
      ]
    },
    {
      "cell_type": "code",
      "metadata": {
        "id": "VWRpkuFb4bmE"
      },
      "source": [
        ""
      ],
      "execution_count": null,
      "outputs": []
    }
  ]
}